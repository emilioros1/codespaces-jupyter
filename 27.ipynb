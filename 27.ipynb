{
 "cells": [
  {
   "cell_type": "code",
   "execution_count": 4,
   "metadata": {},
   "outputs": [
    {
     "name": "stdout",
     "output_type": "stream",
     "text": [
      "Dame un Numero\n",
      "Dame otro Numero\n",
      " 1. suma\n",
      " 2. resta\n",
      " 3. division\n",
      " 4. multiplicacion\n",
      "selecciona el numero de la operacion que quieras\n",
      "0.5\n"
     ]
    }
   ],
   "source": [
    "N1= float(input(print(\"Dame un Numero\")))\n",
    "N2= float(input(print(\"Dame otro Numero\")))\n",
    "print(\" 1. suma\")\n",
    "print(\" 2. resta\")\n",
    "print(\" 3. division\")\n",
    "print(\" 4. multiplicacion\")\n",
    "Calculo = float(input(print(\"selecciona el numero de la operacion que quieras\")))\n",
    "if Calculo == 1:\n",
    "    Resultado = N1+ N2\n",
    "    print (str(Resultado))\n",
    "if Calculo == 2:\n",
    "    Resultado= N1- N2\n",
    "    print (str(Resultado))\n",
    "if Calculo == 3:\n",
    "    Resultado = N1 / N2\n",
    "    print (str(Resultado))\n",
    "if Calculo == 4:\n",
    "    Resultado = N1*N2\n",
    "    print (str(Resultado))\n",
    "    \n",
    "\n"
   ]
  }
 ],
 "metadata": {
  "kernelspec": {
   "display_name": "Python 3",
   "language": "python",
   "name": "python3"
  },
  "language_info": {
   "codemirror_mode": {
    "name": "ipython",
    "version": 3
   },
   "file_extension": ".py",
   "mimetype": "text/x-python",
   "name": "python",
   "nbconvert_exporter": "python",
   "pygments_lexer": "ipython3",
   "version": "3.10.13"
  }
 },
 "nbformat": 4,
 "nbformat_minor": 2
}
